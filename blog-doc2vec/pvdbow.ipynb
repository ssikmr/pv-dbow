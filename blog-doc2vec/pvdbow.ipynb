{
 "cells": [
  {
   "cell_type": "code",
   "execution_count": 731,
   "metadata": {},
   "outputs": [
    {
     "name": "stdout",
     "output_type": "stream",
     "text": [
      "[nltk_data] Downloading package punkt to\n",
      "[nltk_data]     /Users/shashikumar/nltk_data...\n",
      "[nltk_data]   Package punkt is already up-to-date!\n"
     ]
    }
   ],
   "source": [
    "import collections\n",
    "import re\n",
    "\n",
    "import numpy as np\n",
    "import pandas as pd\n",
    "import tensorflow as tf\n",
    "\n",
    "import nltk\n",
    "from nltk.corpus import reuters\n",
    "from nltk.tokenize import word_tokenize\n",
    "from sklearn.manifold import TSNE\n",
    "from sklearn import svm\n",
    "from sklearn.metrics import classification_report\n",
    "\n",
    "import matplotlib.pyplot as plt\n",
    "%matplotlib inline\n",
    "\n",
    "# nltk.download('reuters') ##\n",
    "nltk.download('punkt')\n",
    "\n",
    "PERCENTAGE_DOCS = 100 # random subsample of Reuters training docs\n",
    "VOCAB_SIZE = 10000\n",
    "REMOVE_TOP_K_TERMS = 1 #100\n",
    "MIN_TERM_FREQ = 1 #5 CHANGED\n",
    "\n",
    "TEXT_WINDOW_SIZE = 5\n",
    "BATCH_SIZE = 1 * TEXT_WINDOW_SIZE #10\n",
    "EMBEDDING_SIZE = 30 #128\n",
    "SHUFFLE_EVERY_X_EPOCH = 5\n",
    "PV_TEST_SET_PERCENTAGE = 20\n",
    "NUM_STEPS = 10001\n",
    "LEARNING_RATE = 0.1\n",
    "NUM_SAMPLED = 2 #64\n",
    "REPORT_EVERY_X_STEPS = 200\n",
    "\n",
    "END_TO_END_EVERY_X_STEPS = 3000\n",
    "E2E_TEST_SET_PERCENTAGE = 30\n",
    "TSNE_NUM_DOCS = 400\n",
    "\n",
    "# Token integer ids for special tokens\n",
    "UNK = 0\n",
    "NULL = 1\n",
    "\n",
    "num_attrib = 1"
   ]
  },
  {
   "cell_type": "code",
   "execution_count": 732,
   "metadata": {},
   "outputs": [
    {
     "name": "stdout",
     "output_type": "stream",
     "text": [
      "The line_profiler extension is already loaded. To reload it, use:\n",
      "  %reload_ext line_profiler\n",
      "The memory_profiler extension is already loaded. To reload it, use:\n",
      "  %reload_ext memory_profiler\n"
     ]
    }
   ],
   "source": [
    "%load_ext line_profiler\n",
    "%load_ext memory_profiler"
   ]
  },
  {
   "cell_type": "code",
   "execution_count": 733,
   "metadata": {},
   "outputs": [],
   "source": [
    "\"\"\"\n",
    "Returns an eternal generator, periodically shuffling the order\n",
    "\n",
    "l_ is a list of integers; an internal copy of it is maintained.\n",
    "\"\"\"\n",
    "def repeater_shuffler(l_):\n",
    "    l = np.array(l_, dtype=np.int32)\n",
    "    epoch = 0\n",
    "    while epoch >= 0:\n",
    "        if epoch % SHUFFLE_EVERY_X_EPOCH == 0:\n",
    "            np.random.shuffle(l)\n",
    "        for i in l:\n",
    "            yield i\n",
    "        epoch += 1"
   ]
  },
  {
   "cell_type": "code",
   "execution_count": 734,
   "metadata": {},
   "outputs": [],
   "source": [
    "def accept_doc(fileid):\n",
    "    return fileid.startswith('training/') \\\n",
    "            and np.random.random() * 100 < PERCENTAGE_DOCS"
   ]
  },
  {
   "cell_type": "code",
   "execution_count": 735,
   "metadata": {},
   "outputs": [],
   "source": [
    "def accept(word):\n",
    "    # Accept if not only Unicode non-word characters are present\n",
    "    return re.sub(r'\\W', '', word) != ''"
   ]
  },
  {
   "cell_type": "code",
   "execution_count": 736,
   "metadata": {},
   "outputs": [],
   "source": [
    "def normalize(word):\n",
    "    return word.lower()\n"
   ]
  },
  {
   "cell_type": "code",
   "execution_count": 737,
   "metadata": {},
   "outputs": [
    {
     "name": "stdout",
     "output_type": "stream",
     "text": [
      "<class 'pandas.core.frame.DataFrame'>\n",
      "RangeIndex: 120 entries, 0 to 119\n",
      "Data columns (total 5 columns):\n",
      "index          120 non-null int64\n",
      "CallDate       120 non-null object\n",
      "Vertabim       120 non-null object\n",
      "Subcategory    120 non-null object\n",
      "Category       120 non-null object\n",
      "dtypes: int64(1), object(4)\n",
      "memory usage: 4.8+ KB\n"
     ]
    }
   ],
   "source": [
    "### Filename CSV\n",
    "\n",
    "filename = 'sample_data.csv'\n",
    "df = pd.read_csv(filename, encoding=\"latin-1\")\n",
    "df.info()"
   ]
  },
  {
   "cell_type": "code",
   "execution_count": 738,
   "metadata": {},
   "outputs": [],
   "source": [
    "text_col = 'Vertabim'\n",
    "cat_col = 'Category'\n",
    "\n"
   ]
  },
  {
   "cell_type": "code",
   "execution_count": 739,
   "metadata": {},
   "outputs": [],
   "source": [
    "def get_cat_dict(df, cat_col):\n",
    "    dict_cat = enumdict(df[cat_col].unique())\n",
    "    reverse_dict_cat = dict(zip(dict_cat.values(), dict_cat.keys()))\n",
    "    return dict_cat, reverse_dict_cat\n",
    "\n",
    "def enumdict(listed):\n",
    "    myDict = {}\n",
    "    for i,x in enumerate(listed):\n",
    "        myDict[x] = i\n",
    "    return myDict\n",
    "\n",
    "dict_cat, reverse_dict_cat = get_cat_dict(df, cat_col)"
   ]
  },
  {
   "cell_type": "code",
   "execution_count": 740,
   "metadata": {},
   "outputs": [],
   "source": [
    "def build_dataset():\n",
    "    fileid2words = {ind:\n",
    "            [normalize(word) for word in word_tokenize(\n",
    "                    df.iloc[ind][text_col]) if accept(word)] \\\n",
    "            for ind in df.index }\n",
    "    \n",
    "    \n",
    "#     print(fileid2words)\n",
    "#     fileid2words = {fileid:\n",
    "#             [normalize(word) for word in word_tokenize(\n",
    "#                     reuters.raw(fileid)) if accept(word)] \\\n",
    "#             for fileid in reuters.fileids() if accept_doc(fileid)}\n",
    "    count = [['__UNK__', 0], ['__NULL__', 0]]\n",
    "    count.extend([(word, count) for word, count in collections.Counter(\n",
    "            [word for words in fileid2words.values() \\\n",
    "            for word in words]).most_common(\n",
    "                    VOCAB_SIZE - 2 + REMOVE_TOP_K_TERMS)[\n",
    "                            REMOVE_TOP_K_TERMS:\n",
    "                    ] if count >= MIN_TERM_FREQ])\n",
    "    assert not set(['__UNK__', '__NULL__']) & set(next(zip(\n",
    "            *count[2:])))\n",
    "    dictionary = {}\n",
    "    for i, (word, _) in enumerate(count):\n",
    "        dictionary[word] = i\n",
    "    reverse_dictionary = dict(zip(dictionary.values(),\n",
    "                                  dictionary.keys()))\n",
    "    data = []\n",
    "    doclens = []\n",
    "    fileids = []\n",
    "    for docid, (fileid, words) in enumerate(fileid2words.items()):\n",
    "        for word in words:\n",
    "            if word in dictionary:\n",
    "                wordid = dictionary[word]\n",
    "            else:\n",
    "                wordid = UNK\n",
    "                count[UNK][1] += 1\n",
    "                \n",
    "            # category Id\n",
    "            data.append((docid, wordid, dict_cat[df.iloc[docid][cat_col]]))\n",
    "        # Pad with NULL values if necessary\n",
    "        doclen = len(words)\n",
    "        doclens.append(doclen)\n",
    "        fileids.append(fileid)\n",
    "        if doclen < TEXT_WINDOW_SIZE:\n",
    "            n_nulls = TEXT_WINDOW_SIZE - doclen\n",
    "            data.extend([(docid, NULL, dict_cat[df.iloc[docid][cat_col]])] * n_nulls)\n",
    "            count[NULL][1] += n_nulls\n",
    "    return data, count, doclens, fileids, dictionary, reverse_dictionary"
   ]
  },
  {
   "cell_type": "code",
   "execution_count": 741,
   "metadata": {},
   "outputs": [],
   "source": [
    "## Experiment\n",
    "dn = pd.DataFrame(np.array([[1, 2, 3], [4, 5, 6], [7, 8, 9]]),\n",
    "                columns=['a', 'b', 'c'])\n",
    "\n",
    "# print(dn)\n",
    "# for ind in dn.index:\n",
    "#     print(ind)\n",
    "#     print(dn.iloc[ind]['b'])\n",
    "\n",
    "# dic = {'1' : 2, '2' : 3}\n",
    "# dic['1']"
   ]
  },
  {
   "cell_type": "code",
   "execution_count": 742,
   "metadata": {},
   "outputs": [],
   "source": [
    "data, count, doclens, fileids, dictionary, reverse_dictionary = \\\n",
    "        build_dataset()"
   ]
  },
  {
   "cell_type": "code",
   "execution_count": 743,
   "metadata": {},
   "outputs": [
    {
     "name": "stdout",
     "output_type": "stream",
     "text": [
      "Number of documents: 120\n",
      "Number of tokens: 1284\n",
      "Number of unique tokens: 56\n",
      "Most common words (+UNK and NULL): [['__UNK__', 155], ['__NULL__', 0], ('your', 79), ('on', 79), ('the', 79)]\n",
      "Least common words: [('separate', 1), ('plants', 1), ('volunteers', 1), ('been', 1), ('use', 1)]\n",
      "Sample data: [(0, 0, 0), (0, 2, 0), (0, 10, 0), (0, 11, 0), (0, 9, 0)]\n",
      "Effective vocab size: 56\n"
     ]
    }
   ],
   "source": [
    "print('Number of documents:', len(set(next(zip(*data)))))\n",
    "print('Number of tokens:', len(data))\n",
    "print('Number of unique tokens:', len(count))\n",
    "assert len(data) == sum([i for _, i in count])\n",
    "print('Most common words (+UNK and NULL):', count[:5])\n",
    "print('Least common words:', count[-5:])\n",
    "print('Sample data:', data[:5])\n",
    "vocab_size = min(VOCAB_SIZE, len(count))\n",
    "print('Effective vocab size:', vocab_size)"
   ]
  },
  {
   "cell_type": "code",
   "execution_count": 744,
   "metadata": {},
   "outputs": [
    {
     "data": {
      "text/plain": [
       "count    120.000000\n",
       "mean      10.700000\n",
       "std        1.921134\n",
       "min        8.000000\n",
       "25%        8.000000\n",
       "50%       12.000000\n",
       "75%       12.000000\n",
       "max       15.000000\n",
       "dtype: float64"
      ]
     },
     "execution_count": 744,
     "metadata": {},
     "output_type": "execute_result"
    }
   ],
   "source": [
    "pd.Series(doclens).describe()"
   ]
  },
  {
   "cell_type": "code",
   "execution_count": 745,
   "metadata": {},
   "outputs": [
    {
     "name": "stdout",
     "output_type": "stream",
     "text": [
      "[12, 12, 8, 12, 12, 8, 12, 12, 8, 12, 12, 8, 12, 12, 8, 12, 12, 8, 12, 12, 8, 12, 12, 8, 12, 12, 8, 12, 12, 8, 12, 12, 8, 12, 12, 8, 12, 12, 8, 12, 12, 8, 12, 12, 8, 12, 12, 8, 12, 12, 8, 12, 12, 8, 12, 12, 8, 12, 12, 8, 12, 12, 8, 12, 12, 8, 12, 12, 8, 12, 12, 8, 12, 12, 8, 12, 12, 8, 12, 12, 8, 12, 12, 8, 12, 12, 8, 12, 12, 8, 12, 12, 8, 12, 12, 8, 12, 12, 8, 12, 12, 8, 12, 12, 15, 12, 12, 8, 12, 12, 8, 12, 12, 8, 9, 12, 8, 12, 12, 8]\n"
     ]
    }
   ],
   "source": [
    "print(doclens)"
   ]
  },
  {
   "cell_type": "code",
   "execution_count": 746,
   "metadata": {},
   "outputs": [],
   "source": [
    "def get_text_window_center_positions():\n",
    "    # If TEXT_WINDOW_SIZE is even, then define text_window_center\n",
    "    # as left-of-middle-pair\n",
    "    doc_start_indexes = [0]\n",
    "    last_docid = data[0][0]\n",
    "    for i, (d, _, _) in enumerate(data):\n",
    "        if d != last_docid:\n",
    "            doc_start_indexes.append(i)\n",
    "            last_docid = d\n",
    "    twcp = []\n",
    "    for i in range(len(doc_start_indexes) - 1):\n",
    "        twcp.extend(list(range(\n",
    "                doc_start_indexes[i] + (TEXT_WINDOW_SIZE - 1) // 2,\n",
    "                doc_start_indexes[i + 1] - TEXT_WINDOW_SIZE // 2\n",
    "                )))\n",
    "    return doc_start_indexes, twcp"
   ]
  },
  {
   "cell_type": "code",
   "execution_count": 747,
   "metadata": {},
   "outputs": [],
   "source": [
    "doc_start_indexes, twcp = get_text_window_center_positions()"
   ]
  },
  {
   "cell_type": "code",
   "execution_count": 748,
   "metadata": {},
   "outputs": [],
   "source": [
    "def get_train_test():\n",
    "    split_point = len(twcp) * (100 - PV_TEST_SET_PERCENTAGE) // 100\n",
    "    twcp_train = twcp[:split_point]\n",
    "\n",
    "    # Test set data must come from known documents\n",
    "    docids_train = set([data[i][0] for i in twcp_train])\n",
    "    twcp_test = []\n",
    "    # CHANGED LOOKS opposite\n",
    "    for i in twcp[split_point:]:\n",
    "        if data[i][0] in docids_train:\n",
    "            twcp_test.append(i)\n",
    "        else:\n",
    "            twcp_train.append(i)\n",
    "    if len(twcp_test) < (BATCH_SIZE // TEXT_WINDOW_SIZE):\n",
    "        raise ValueError(\n",
    "            'Too little test data, try increasing PV_TEST_SET_PERCENTAGE')\n",
    "    return twcp_train, twcp_test"
   ]
  },
  {
   "cell_type": "code",
   "execution_count": 749,
   "metadata": {},
   "outputs": [],
   "source": [
    "np.random.shuffle(twcp)\n",
    "twcp_train, twcp_test = get_train_test()\n",
    "twcp_train_gen = repeater_shuffler(twcp_train)\n",
    "# print(twcp)\n",
    "del twcp # save some memory"
   ]
  },
  {
   "cell_type": "code",
   "execution_count": 750,
   "metadata": {},
   "outputs": [
    {
     "name": "stdout",
     "output_type": "stream",
     "text": [
      "Effective test set percentage: 160 out of 800, 20.0%\n"
     ]
    }
   ],
   "source": [
    "print('Effective test set percentage: {} out of {}, {:.1f}%'.format(\n",
    "        len(twcp_test), len(twcp_test) + len(twcp_train),\n",
    "        100 * len(twcp_test) / (len(twcp_test) + len(twcp_train))))"
   ]
  },
  {
   "cell_type": "code",
   "execution_count": 751,
   "metadata": {},
   "outputs": [],
   "source": [
    "del twcp_train # save some memory, we use twcp_train_gen from now on"
   ]
  },
  {
   "cell_type": "code",
   "execution_count": 752,
   "metadata": {},
   "outputs": [],
   "source": [
    "def generate_batch_single_twcp(twcp, i, batch, labels, category):\n",
    "    tw_start = twcp - (TEXT_WINDOW_SIZE - 1) // 2\n",
    "    tw_end = twcp + TEXT_WINDOW_SIZE // 2 + 1\n",
    "    docids, wordids, cotids = zip(*data[tw_start:tw_end])\n",
    "    batch_slice = slice(i * TEXT_WINDOW_SIZE,\n",
    "                        (i+1) * TEXT_WINDOW_SIZE)\n",
    "    batch[batch_slice] = docids\n",
    "    labels[batch_slice, 0] = wordids\n",
    "    category[batch_slice] = cotids\n",
    "    \n",
    "def generate_batch(twcp_gen):\n",
    "    batch = np.ndarray(shape=(BATCH_SIZE,), dtype=np.int32)\n",
    "    labels = np.ndarray(shape=(BATCH_SIZE, 1), dtype=np.int32)\n",
    "    category = np.ndarray(shape=(BATCH_SIZE,), dtype=np.int32)\n",
    "    for i in range(BATCH_SIZE // TEXT_WINDOW_SIZE):\n",
    "        generate_batch_single_twcp(next(twcp_gen), i, batch, labels, category)\n",
    "    return batch, labels, category"
   ]
  },
  {
   "cell_type": "code",
   "execution_count": 753,
   "metadata": {},
   "outputs": [],
   "source": [
    "# Input data\n",
    "CAT_NUM = len(dict_cat)\n",
    "TEST_SIZE = 100\n",
    "NUM_POSSIBLE_CAT= CAT_NUM + TEST_SIZE + 1\n",
    "\n",
    "dataset = tf.placeholder(tf.int32, shape=[BATCH_SIZE])\n",
    "category = tf.placeholder(tf.int32, shape = [BATCH_SIZE]) #new\n",
    "labels = tf.placeholder(tf.int32, shape=[BATCH_SIZE, 1])\n",
    "\n",
    "# Weights\n",
    "doc_embeddings = tf.Variable(\n",
    "        tf.random_uniform([len(doclens), EMBEDDING_SIZE],\n",
    "                          -1.0, 1.0))\n",
    "cat_embeddings =  tf.Variable(\n",
    "        tf.random_uniform([NUM_POSSIBLE_CAT, EMBEDDING_SIZE],\n",
    "                          -1.0, 1.0))\n",
    "\n",
    "\n",
    "softmax_weights = tf.Variable(\n",
    "        tf.truncated_normal(\n",
    "                [vocab_size, (num_attrib+1) * EMBEDDING_SIZE],\n",
    "                stddev=1.0 / np.sqrt(EMBEDDING_SIZE)))\n",
    "softmax_biases = tf.Variable(tf.zeros([vocab_size]))\n",
    "\n",
    "# Model\n",
    "# Look up embeddings for inputs\n",
    "doc_embed = tf.nn.embedding_lookup(doc_embeddings, dataset)\n",
    "cat_embed = tf.nn.embedding_lookup(cat_embeddings, category)\n",
    "\n",
    "embed = tf.concat([doc_embed, cat_embed], axis = 1)\n",
    "\n",
    "# Compute the softmax loss, using a sample of the negative\n",
    "# labels each time\n",
    "loss = tf.reduce_mean(\n",
    "        tf.nn.sampled_softmax_loss(\n",
    "                softmax_weights, softmax_biases, \n",
    "                labels,embed, NUM_SAMPLED, vocab_size))\n",
    "\n",
    "# Optimizer # CHANGED\n",
    "# trainable_param = []\n",
    "optimizer_train = tf.train.AdagradOptimizer(LEARNING_RATE).minimize(\n",
    "        loss)\n",
    "\n",
    "optimizer_test = tf.train.AdagradOptimizer(LEARNING_RATE).minimize(\n",
    "        loss, var_list = [doc_embeddings, cat_embeddings])\n",
    "\n",
    "\n",
    "\n",
    "# Test loss\n",
    "test_loss = tf.reduce_mean(\n",
    "        tf.nn.sparse_softmax_cross_entropy_with_logits(\n",
    "                logits = tf.matmul(embed, tf.transpose(\n",
    "                          softmax_weights)) + softmax_biases,\n",
    "                labels = labels[:, 0]))\n",
    "\n",
    "# Normalized embeddings (to use cosine similarity later on)\n",
    "norm = tf.sqrt(tf.reduce_sum(tf.square(doc_embeddings), 1,\n",
    "                              keep_dims=True))\n",
    "normalized_embeddings = doc_embeddings / norm\n",
    "\n",
    "# Normalized embeddings (to use cosine similarity later on)\n",
    "cat_norm = tf.sqrt(tf.reduce_sum(tf.square(cat_embeddings), 1,\n",
    "                              keep_dims=True))\n",
    "cat_normalized_embeddings = cat_embeddings / cat_norm"
   ]
  },
  {
   "cell_type": "code",
   "execution_count": 754,
   "metadata": {},
   "outputs": [],
   "source": [
    "session = tf.Session()\n",
    "session.run(tf.global_variables_initializer())"
   ]
  },
  {
   "cell_type": "code",
   "execution_count": 755,
   "metadata": {},
   "outputs": [],
   "source": [
    "def get_test_loss():\n",
    "    # We do this in batches, too, to keep memory usage low.\n",
    "    # Since our graph works with a fixed batch size, we\n",
    "    # are lazy and just compute test loss on all batches that\n",
    "    # fit in the test set.\n",
    "    twcp_test_gen = (i for i in twcp_test)\n",
    "    n_batches = (len(twcp_test) * TEXT_WINDOW_SIZE) // BATCH_SIZE\n",
    "    test_l = 0.0\n",
    "    for _ in range(n_batches):\n",
    "        batch_data, batch_labels, batch_category = generate_batch(twcp_test_gen)\n",
    "        test_l += session.run([test_loss], feed_dict={\n",
    "                dataset: batch_data, labels: batch_labels, category : batch_category\n",
    "            })[0]\n",
    "    return test_l / n_batches"
   ]
  },
  {
   "cell_type": "code",
   "execution_count": 756,
   "metadata": {},
   "outputs": [],
   "source": [
    "def train(num_steps):\n",
    "    avg_training_loss = 0\n",
    "    for step in range(num_steps):\n",
    "        batch_data, batch_labels, batch_category = generate_batch(twcp_train_gen)\n",
    "        _, l = session.run(\n",
    "                [optimizer_train, loss],\n",
    "                feed_dict={dataset: batch_data, labels: batch_labels, category : batch_category})\n",
    "        avg_training_loss += l\n",
    "        if step > 0 and step % REPORT_EVERY_X_STEPS == 0:\n",
    "            avg_training_loss = \\\n",
    "                    avg_training_loss / REPORT_EVERY_X_STEPS\n",
    "            # The average loss is an estimate of the loss over the\n",
    "            # last REPORT_EVERY_X_STEPS batches\n",
    "            print('Average loss at step {:d}: {:.1f}'.format(\n",
    "                    step, avg_training_loss))\n",
    "            avg_training_loss = 0\n",
    "            test_l = get_test_loss()\n",
    "            print('Test loss at step {:d}: {:.1f}'.format(\n",
    "                    step, test_l))"
   ]
  },
  {
   "cell_type": "code",
   "execution_count": 757,
   "metadata": {},
   "outputs": [],
   "source": [
    "# def get_labels():\n",
    "#     most_common_class = collections.Counter(\n",
    "#             [c for cs in [df.iloc[fileid][cat_col] for fileid in fileids] \\\n",
    "#             for c in cs]).most_common(1)[0][0]\n",
    "#     print('Most common class in sampled documents:',\n",
    "#           most_common_class)\n",
    "#     return (\n",
    "#             np.array(\n",
    "#                     [1 if most_common_class in reuters.categories(\n",
    "#                             fileid) else 0 for fileid in fileids], \n",
    "#                      dtype=np.int32),\n",
    "#             ('other', most_common_class)\n",
    "#             )\n",
    "        "
   ]
  },
  {
   "cell_type": "code",
   "execution_count": 758,
   "metadata": {},
   "outputs": [],
   "source": [
    "# e2e_labels, target_names = get_labels()"
   ]
  },
  {
   "cell_type": "code",
   "execution_count": 759,
   "metadata": {},
   "outputs": [],
   "source": [
    "def get_two_d_embeddings(embeddings):\n",
    "    num_points = min(TSNE_NUM_DOCS, len(fileids))\n",
    "    tsne = TSNE(perplexity=3, n_components=2, init='pca', \n",
    "                n_iter=5000)\n",
    "    return tsne.fit_transform(embeddings[0:num_points, :])"
   ]
  },
  {
   "cell_type": "code",
   "execution_count": 760,
   "metadata": {},
   "outputs": [],
   "source": [
    "def plot(embeddings):\n",
    "    fig = plt.figure(figsize=(13, 8))\n",
    "#     class_1 = e2e_labels[:embeddings.shape[0]].astype('bool')\n",
    "#     plt.plot(embeddings[class_1, 0], embeddings[class_1, 1], \n",
    "#              'o', color='purple')\n",
    "#     plt.plot(embeddings[~class_1, 0], embeddings[~class_1, 1],\n",
    "#              'o', color='lightgrey')\n",
    "    plt.plot(embeddings[ 0], embeddings[ 1],\n",
    "             'o', color='purple')\n",
    "    plt.show()"
   ]
  },
  {
   "cell_type": "code",
   "execution_count": 761,
   "metadata": {},
   "outputs": [],
   "source": [
    "def get_e2e_train_test():\n",
    "    indices = np.array(range(len(fileids)), dtype=np.int32)\n",
    "    np.random.shuffle(indices)\n",
    "    split_point = len(indices) * (100 - E2E_TEST_SET_PERCENTAGE) \\\n",
    "            // 100\n",
    "    e2e_train =np.array([True if i in indices[:split_point] \\\n",
    "                         else False for i in range(len(fileids))])\n",
    "    return e2e_train"
   ]
  },
  {
   "cell_type": "code",
   "execution_count": 762,
   "metadata": {},
   "outputs": [],
   "source": [
    "e2e_train = get_e2e_train_test()"
   ]
  },
  {
   "cell_type": "code",
   "execution_count": 763,
   "metadata": {},
   "outputs": [],
   "source": [
    "# def classification_experiment(embeddings):\n",
    "#     X = embeddings[e2e_train, :]\n",
    "#     y = e2e_labels[e2e_train]\n",
    "#     clf = svm.SVC(kernel='linear', class_weight='balanced')\n",
    "#     clf.fit(X, y)\n",
    "#     predictions = clf.predict(\n",
    "#             embeddings[~e2e_train, :])\n",
    "#     print(classification_report(\n",
    "#             e2e_labels[~e2e_train],\n",
    "#             predictions, target_names=target_names))"
   ]
  },
  {
   "cell_type": "code",
   "execution_count": 764,
   "metadata": {},
   "outputs": [],
   "source": [
    "def end_to_end(num_steps):\n",
    "    train(num_steps)\n",
    "    current_embeddings, cat_embeddings = session.run([normalized_embeddings, cat_normalized_embeddings])\n",
    "    print(current_embeddings.shape)\n",
    "    print(cat_embeddings.shape)\n",
    "    plot(get_two_d_embeddings(current_embeddings))\n",
    "#     classification_experiment(current_embeddings)"
   ]
  },
  {
   "cell_type": "code",
   "execution_count": 765,
   "metadata": {},
   "outputs": [],
   "source": [
    "def run():\n",
    "    for i in range(NUM_STEPS // END_TO_END_EVERY_X_STEPS):\n",
    "        end_to_end(END_TO_END_EVERY_X_STEPS)\n",
    "    end_to_end(NUM_STEPS % END_TO_END_EVERY_X_STEPS)"
   ]
  },
  {
   "cell_type": "code",
   "execution_count": 766,
   "metadata": {},
   "outputs": [
    {
     "name": "stdout",
     "output_type": "stream",
     "text": [
      "Average loss at step 200: 0.7\n",
      "Test loss at step 200: 3.0\n",
      "Average loss at step 400: 0.7\n",
      "Test loss at step 400: 2.7\n",
      "Average loss at step 600: 0.6\n",
      "Test loss at step 600: 2.6\n",
      "Average loss at step 800: 0.6\n",
      "Test loss at step 800: 2.7\n",
      "Average loss at step 1000: 0.5\n",
      "Test loss at step 1000: 2.6\n",
      "Average loss at step 1200: 0.5\n",
      "Test loss at step 1200: 2.6\n",
      "Average loss at step 1400: 0.5\n",
      "Test loss at step 1400: 2.6\n",
      "Average loss at step 1600: 0.5\n",
      "Test loss at step 1600: 2.6\n",
      "Average loss at step 1800: 0.5\n",
      "Test loss at step 1800: 2.5\n",
      "Average loss at step 2000: 0.5\n",
      "Test loss at step 2000: 2.5\n",
      "Average loss at step 2200: 0.6\n",
      "Test loss at step 2200: 2.5\n",
      "Average loss at step 2400: 0.5\n",
      "Test loss at step 2400: 2.5\n",
      "Average loss at step 2600: 0.5\n",
      "Test loss at step 2600: 2.5\n",
      "Average loss at step 2800: 0.5\n",
      "Test loss at step 2800: 2.5\n",
      "(120, 30)\n",
      "(103, 30)\n"
     ]
    },
    {
     "data": {
      "image/png": "[encoded data removed]",
      "text/plain": [
       "<Figure size 936x576 with 1 Axes>"
      ]
     },
     "metadata": {
      "needs_background": "light"
     },
     "output_type": "display_data"
    },
    {
     "name": "stdout",
     "output_type": "stream",
     "text": [
      "Average loss at step 200: 0.4\n",
      "Test loss at step 200: 2.5\n",
      "Average loss at step 400: 0.5\n",
      "Test loss at step 400: 2.4\n",
      "Average loss at step 600: 0.5\n",
      "Test loss at step 600: 2.5\n",
      "Average loss at step 800: 0.5\n",
      "Test loss at step 800: 2.4\n",
      "Average loss at step 1000: 0.5\n",
      "Test loss at step 1000: 2.5\n",
      "Average loss at step 1200: 0.5\n",
      "Test loss at step 1200: 2.4\n",
      "Average loss at step 1400: 0.5\n",
      "Test loss at step 1400: 2.4\n",
      "Average loss at step 1600: 0.4\n",
      "Test loss at step 1600: 2.4\n",
      "Average loss at step 1800: 0.4\n",
      "Test loss at step 1800: 2.4\n",
      "Average loss at step 2000: 0.5\n",
      "Test loss at step 2000: 2.4\n",
      "Average loss at step 2200: 0.5\n",
      "Test loss at step 2200: 2.4\n",
      "Average loss at step 2400: 0.4\n",
      "Test loss at step 2400: 2.4\n",
      "Average loss at step 2600: 0.4\n",
      "Test loss at step 2600: 2.4\n",
      "Average loss at step 2800: 0.5\n",
      "Test loss at step 2800: 2.4\n",
      "(120, 30)\n",
      "(103, 30)\n"
     ]
    },
    {
     "data": {
      "image/png": "[encoded data removed]",
      "text/plain": [
       "<Figure size 936x576 with 1 Axes>"
      ]
     },
     "metadata": {
      "needs_background": "light"
     },
     "output_type": "display_data"
    },
    {
     "name": "stdout",
     "output_type": "stream",
     "text": [
      "Average loss at step 200: 0.4\n",
      "Test loss at step 200: 2.4\n",
      "Average loss at step 400: 0.4\n",
      "Test loss at step 400: 2.4\n",
      "Average loss at step 600: 0.4\n",
      "Test loss at step 600: 2.4\n",
      "Average loss at step 800: 0.4\n",
      "Test loss at step 800: 2.4\n",
      "Average loss at step 1000: 0.4\n",
      "Test loss at step 1000: 2.4\n",
      "Average loss at step 1200: 0.4\n",
      "Test loss at step 1200: 2.4\n",
      "Average loss at step 1400: 0.5\n",
      "Test loss at step 1400: 2.4\n",
      "Average loss at step 1600: 0.4\n",
      "Test loss at step 1600: 2.4\n",
      "Average loss at step 1800: 0.4\n",
      "Test loss at step 1800: 2.4\n",
      "Average loss at step 2000: 0.4\n",
      "Test loss at step 2000: 2.4\n",
      "Average loss at step 2200: 0.4\n",
      "Test loss at step 2200: 2.4\n",
      "Average loss at step 2400: 0.5\n",
      "Test loss at step 2400: 2.4\n",
      "Average loss at step 2600: 0.4\n",
      "Test loss at step 2600: 2.4\n",
      "Average loss at step 2800: 0.4\n",
      "Test loss at step 2800: 2.4\n",
      "(120, 30)\n",
      "(103, 30)\n"
     ]
    },
    {
     "data": {
      "image/png": "[encoded data removed]",
      "text/plain": [
       "<Figure size 936x576 with 1 Axes>"
      ]
     },
     "metadata": {
      "needs_background": "light"
     },
     "output_type": "display_data"
    },
    {
     "name": "stdout",
     "output_type": "stream",
     "text": [
      "Average loss at step 200: 0.4\n",
      "Test loss at step 200: 2.4\n",
      "Average loss at step 400: 0.5\n",
      "Test loss at step 400: 2.4\n",
      "Average loss at step 600: 0.5\n",
      "Test loss at step 600: 2.4\n",
      "Average loss at step 800: 0.4\n",
      "Test loss at step 800: 2.4\n",
      "Average loss at step 1000: 0.5\n",
      "Test loss at step 1000: 2.4\n",
      "(120, 30)\n",
      "(103, 30)\n"
     ]
    },
    {
     "data": {
      "image/png": "[encoded data removed]",
      "text/plain": [
       "<Figure size 936x576 with 1 Axes>"
      ]
     },
     "metadata": {
      "needs_background": "light"
     },
     "output_type": "display_data"
    }
   ],
   "source": [
    "#%mprun -f train run() # only works on physical file functions ;-(\n",
    "%lprun -f train run() # uncomment to use (time profiling)\n",
    "#%timeit -n 1 run() # uncomment to use (summary time profiling)\n",
    "#%memit -r 1 run() # uncomment to use (memory consumption)"
   ]
  },
  {
   "cell_type": "code",
   "execution_count": null,
   "metadata": {},
   "outputs": [],
   "source": []
  }
 ],
 "metadata": {
  "kernelspec": {
   "display_name": "Python 3",
   "language": "python",
   "name": "python3"
  },
  "language_info": {
   "codemirror_mode": {
    "name": "ipython",
    "version": 3
   },
   "file_extension": ".py",
   "mimetype": "text/x-python",
   "name": "python",
   "nbconvert_exporter": "python",
   "pygments_lexer": "ipython3",
   "version": "3.5.6"
  }
 },
 "nbformat": 4,
 "nbformat_minor": 1
}
